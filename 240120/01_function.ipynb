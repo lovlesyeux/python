{
 "cells": [
  {
   "cell_type": "markdown",
   "metadata": {},
   "source": [
    "### 문자열 함수\n"
   ]
  },
  {
   "cell_type": "code",
   "execution_count": 1,
   "metadata": {},
   "outputs": [
    {
     "name": "stdout",
     "output_type": "stream",
     "text": [
      "HELLO WORLD\n",
      "hello world\n",
      "hELLO WORLD\n",
      "Hello World\n"
     ]
    }
   ],
   "source": [
    "# 문자열을 대 소문자 변경\n",
    "a_text= 'Hello world'\n",
    "# upper():모든 문자열을 대문자로 변경\n",
    "print((a_text.upper()))\n",
    "# lower():모든 문자열을 소문자로 변경\n",
    "print(a_text.lower())\n",
    "# swapcase():대문자를 소문자로 소문자를 대문자로 변경\n",
    "print(a_text.swapcase())\n",
    "# tille():단어의 첫글자를 대문자료\n",
    "print(a_text.title())"
   ]
  },
  {
   "cell_type": "code",
   "execution_count": 2,
   "metadata": {},
   "outputs": [
    {
     "name": "stdout",
     "output_type": "stream",
     "text": [
      " Hello world \n"
     ]
    }
   ],
   "source": [
    "# 공백을 제거하는 함수\n",
    "# strip(): 문자열의 좌우의 공백을 제거\n",
    "# lstrip():문자열 좌측의 공백\n",
    "# rstrip():우측 공백\n",
    "b_text=' Hello world '\n",
    "print(b_text)"
   ]
  },
  {
   "cell_type": "code",
   "execution_count": 3,
   "metadata": {},
   "outputs": [
    {
     "data": {
      "text/plain": [
       "' Hello world '"
      ]
     },
     "execution_count": 3,
     "metadata": {},
     "output_type": "execute_result"
    }
   ],
   "source": [
    "b_text"
   ]
  },
  {
   "cell_type": "code",
   "execution_count": 4,
   "metadata": {},
   "outputs": [
    {
     "data": {
      "text/plain": [
       "'Hello world'"
      ]
     },
     "execution_count": 4,
     "metadata": {},
     "output_type": "execute_result"
    }
   ],
   "source": [
    "# 좌우의 공백을 제거\n",
    "b_text.strip()\n",
    "# 변수없이 입력후 실행하면 결과값이 나온다-테스트결과 확인\n",
    "# 변수에 대입하면 안나옴"
   ]
  },
  {
   "cell_type": "code",
   "execution_count": 11,
   "metadata": {},
   "outputs": [
    {
     "data": {
      "text/plain": [
       "'Hello world '"
      ]
     },
     "execution_count": 11,
     "metadata": {},
     "output_type": "execute_result"
    }
   ],
   "source": [
    "b_text.lstrip()\n"
   ]
  },
  {
   "cell_type": "code",
   "execution_count": 10,
   "metadata": {},
   "outputs": [
    {
     "data": {
      "text/plain": [
       "' Hello world'"
      ]
     },
     "execution_count": 10,
     "metadata": {},
     "output_type": "execute_result"
    }
   ],
   "source": [
    "b_text.rstrip()\n",
    "# 여러개를 쓰면 마지막꺼만 뜬다"
   ]
  },
  {
   "cell_type": "code",
   "execution_count": 7,
   "metadata": {},
   "outputs": [
    {
     "name": "stdout",
     "output_type": "stream",
     "text": [
      "$$Hello%%\n"
     ]
    }
   ],
   "source": [
    "c_text = '$$Hello%%'\n",
    "print(c_text)"
   ]
  },
  {
   "cell_type": "code",
   "execution_count": 8,
   "metadata": {},
   "outputs": [
    {
     "data": {
      "text/plain": [
       "'Hello%%'"
      ]
     },
     "execution_count": 8,
     "metadata": {},
     "output_type": "execute_result"
    }
   ],
   "source": [
    "# 좌측의 $를 제거\n",
    "c_text.lstrip('$')"
   ]
  },
  {
   "cell_type": "code",
   "execution_count": 9,
   "metadata": {},
   "outputs": [
    {
     "data": {
      "text/plain": [
       "'$$Hello'"
      ]
     },
     "execution_count": 9,
     "metadata": {},
     "output_type": "execute_result"
    }
   ],
   "source": [
    "c_text.rstrip('%')"
   ]
  },
  {
   "cell_type": "code",
   "execution_count": 12,
   "metadata": {},
   "outputs": [
    {
     "data": {
      "text/plain": [
       "'Hi World'"
      ]
     },
     "execution_count": 12,
     "metadata": {},
     "output_type": "execute_result"
    }
   ],
   "source": [
    "# replace({치환할 문자열},{치환될 문자열})\n",
    "c_text='Hello World'\n",
    "c_text.replace('Hello','Hi')"
   ]
  },
  {
   "cell_type": "code",
   "execution_count": 13,
   "metadata": {},
   "outputs": [
    {
     "data": {
      "text/plain": [
       "'  Hello World  '"
      ]
     },
     "execution_count": 13,
     "metadata": {},
     "output_type": "execute_result"
    }
   ],
   "source": [
    "# replace()함수를 이용하여 문자열의 공백을 제거\n",
    "d_text='  Hello World  '\n",
    "d_text"
   ]
  },
  {
   "cell_type": "code",
   "execution_count": 14,
   "metadata": {},
   "outputs": [
    {
     "data": {
      "text/plain": [
       "'HelloWorld'"
      ]
     },
     "execution_count": 14,
     "metadata": {},
     "output_type": "execute_result"
    }
   ],
   "source": [
    "d_text.replace(' ','')"
   ]
  },
  {
   "cell_type": "code",
   "execution_count": 15,
   "metadata": {},
   "outputs": [
    {
     "data": {
      "text/plain": [
       "['a', 'b', 'c', 'd']"
      ]
     },
     "execution_count": 15,
     "metadata": {},
     "output_type": "execute_result"
    }
   ],
   "source": [
    "# split() : 특정한 문자열을 이용하여 문쟈열을 나눠주는 함수\n",
    "e_text='a,b,c,d'\n",
    "e_text.split(',')"
   ]
  },
  {
   "cell_type": "code",
   "execution_count": 16,
   "metadata": {},
   "outputs": [
    {
     "data": {
      "text/plain": [
       "['a', 'b', 'c', 'd']"
      ]
     },
     "execution_count": 16,
     "metadata": {},
     "output_type": "execute_result"
    }
   ],
   "source": [
    "f_text='a/b/c/d'\n",
    "f_text.split('/')"
   ]
  },
  {
   "cell_type": "markdown",
   "metadata": {},
   "source": [
    "### 함수\n",
    "어떠한 입력값을 가지고 작업을 실행하고 결과물을 출력한다.\n"
   ]
  },
  {
   "cell_type": "code",
   "execution_count": 6,
   "metadata": {},
   "outputs": [],
   "source": [
    "# 매개변수가 존재하지 않는 함수를 생성\n",
    "# 매개변수가 없으면 함수는 동일한 행동을 반복\n",
    "def func_1():\n",
    "    result='Hello'\n",
    "    return result"
   ]
  },
  {
   "cell_type": "code",
   "execution_count": 7,
   "metadata": {},
   "outputs": [
    {
     "name": "stdout",
     "output_type": "stream",
     "text": [
      "Hello\n",
      "Hello\n",
      "Hello\n"
     ]
    }
   ],
   "source": [
    "print(func_1())\n",
    "print(func_1())\n",
    "print(func_1())\n"
   ]
  },
  {
   "cell_type": "code",
   "execution_count": 3,
   "metadata": {},
   "outputs": [],
   "source": [
    "# 매개변수가 존재하는 함수를 행성\n",
    "def func_2(a,b):\n",
    "    result=a+b\n",
    "    return result"
   ]
  },
  {
   "cell_type": "code",
   "execution_count": 4,
   "metadata": {},
   "outputs": [
    {
     "name": "stdout",
     "output_type": "stream",
     "text": [
      "9\n",
      "3\n"
     ]
    }
   ],
   "source": [
    "# 매개변수가 2개인 함수를 호출 --> 해당하는 함수를 호출 할때는 인자의 개수가 2개\n",
    "print(func_2(4,5))  # 9\n",
    "print(func_2(1,2))  # 3"
   ]
  },
  {
   "cell_type": "code",
   "execution_count": 5,
   "metadata": {},
   "outputs": [
    {
     "ename": "TypeError",
     "evalue": "func_2() missing 1 required positional argument: 'b'",
     "output_type": "error",
     "traceback": [
      "\u001b[1;31m---------------------------------------------------------------------------\u001b[0m",
      "\u001b[1;31mTypeError\u001b[0m                                 Traceback (most recent call last)",
      "Cell \u001b[1;32mIn[5], line 3\u001b[0m\n\u001b[0;32m      1\u001b[0m \u001b[38;5;66;03m# error code\u001b[39;00m\n\u001b[0;32m      2\u001b[0m \u001b[38;5;66;03m# 매개변수의 개수와 인자의 개수를 다르게 호출하는 경우\u001b[39;00m\n\u001b[1;32m----> 3\u001b[0m \u001b[38;5;28mprint\u001b[39m(\u001b[43mfunc_2\u001b[49m\u001b[43m(\u001b[49m\u001b[38;5;241;43m5\u001b[39;49m\u001b[43m)\u001b[49m)\n",
      "\u001b[1;31mTypeError\u001b[0m: func_2() missing 1 required positional argument: 'b'"
     ]
    }
   ],
   "source": [
    "# error code\n",
    "# 매개변수의 개수와 인자의 개수를 다르게 호출하는 경우\n",
    "print(func_2(5))"
   ]
  },
  {
   "cell_type": "code",
   "execution_count": 8,
   "metadata": {},
   "outputs": [],
   "source": [
    "# 함수를 생성할 때 매개변수에 기본값을 지정\n",
    "def func_3(a,b=2):\n",
    "    result = a**b\n",
    "    return result\n"
   ]
  },
  {
   "cell_type": "code",
   "execution_count": 9,
   "metadata": {},
   "outputs": [
    {
     "name": "stdout",
     "output_type": "stream",
     "text": [
      "125\n",
      "64\n"
     ]
    }
   ],
   "source": [
    "print(func_3(5,3))  # 125\n",
    "print(func_3(8)) # 64"
   ]
  },
  {
   "cell_type": "code",
   "execution_count": 10,
   "metadata": {},
   "outputs": [],
   "source": [
    "def func_4(input_x,input_y):\n",
    "    result = input_x - input_y\n",
    "    return result"
   ]
  },
  {
   "cell_type": "code",
   "execution_count": 11,
   "metadata": {},
   "outputs": [
    {
     "name": "stdout",
     "output_type": "stream",
     "text": [
      "7\n",
      "-7\n"
     ]
    }
   ],
   "source": [
    "print(func_4(10,3)) # 7\n",
    "print(func_4(input_y=10,input_x=3)) # -7"
   ]
  },
  {
   "cell_type": "code",
   "execution_count": 4,
   "metadata": {},
   "outputs": [],
   "source": [
    "# 함수를 생성\n",
    "# 매개변수는 2개 -> start,end\n",
    "# start부터 시작해서 end까지 누적합 출력\n",
    "# start의 기본값은 1, end의 기본값은 10\n",
    "def func_5(start=1,end=10):\n",
    "    # 합계라는 초기 값은 0으로 지정\n",
    "    result=0\n",
    "\n",
    "    # start부터 end까지 반복하는 반복문 생성\n",
    "    for i in range(start,end+1,1):\n",
    "        result+=i\n",
    "        \n",
    "    # for문 종료 후\n",
    "    return result\n",
    "# 만약 return이 for문 안에 있게되면 1한번만 더해지고 종료된다.return은 함수를 종료하는 의미이기도 하므로 함수가 끝나버려 for문도 끝\n",
    "\n"
   ]
  },
  {
   "cell_type": "code",
   "execution_count": 5,
   "metadata": {},
   "outputs": [
    {
     "name": "stdout",
     "output_type": "stream",
     "text": [
      "55\n"
     ]
    }
   ],
   "source": [
    "print(func_5())"
   ]
  },
  {
   "cell_type": "code",
   "execution_count": 38,
   "metadata": {},
   "outputs": [
    {
     "name": "stdout",
     "output_type": "stream",
     "text": [
      "5050\n"
     ]
    }
   ],
   "source": [
    "print(func_5(end=100))"
   ]
  },
  {
   "cell_type": "code",
   "execution_count": 7,
   "metadata": {},
   "outputs": [
    {
     "name": "stdout",
     "output_type": "stream",
     "text": [
      "77\n",
      "3003\n"
     ]
    }
   ],
   "source": [
    "# 1부터 100까지의 누적합 도중 합계가 3000이 넘어가는 최초의 숫자를 구할때\n",
    "# 합계 초기값 지정 0\n",
    "sum_result=0\n",
    "\n",
    "for i in range(1,101):\n",
    "    sum_result+=i\n",
    "    # 합계가 3000보다 큰 경우\n",
    "    if sum_result>3000:\n",
    "        break\n",
    "print(i)\n",
    "print(sum_result)"
   ]
  },
  {
   "cell_type": "code",
   "execution_count": 8,
   "metadata": {},
   "outputs": [
    {
     "name": "stdout",
     "output_type": "stream",
     "text": [
      "548\n",
      "150426\n"
     ]
    }
   ],
   "source": [
    "# 1부터 1씩 증가시켜서 누적합이 150000이 되는 순간의 수는?\n",
    "i=1\n",
    "sum_result=0\n",
    "\n",
    "while True:\n",
    "    sum_result+=i\n",
    "    if sum_result > 150000:\n",
    "        break\n",
    "    i+=1\n",
    "print(i)\n",
    "print(sum_result)"
   ]
  },
  {
   "cell_type": "code",
   "execution_count": 9,
   "metadata": {},
   "outputs": [],
   "source": [
    "# 함수 생성\n",
    "# 매개변수 2개 생성\n",
    "# 매개변수 사이의 값들의 누적합을 출력하는 함수\n",
    "def func_7(x,y):\n",
    "    result=0\n",
    "    # x보다 y가 큰 경우 \n",
    "    if x < y:\n",
    "        for i in range(x,y+1):\n",
    "            result+=i\n",
    "    # x보다 y가 작거나 같은 경우\n",
    "    else:\n",
    "        for i in range(y,x+1):\n",
    "            result+=i\n",
    "\n",
    "    return result"
   ]
  },
  {
   "cell_type": "code",
   "execution_count": 10,
   "metadata": {},
   "outputs": [
    {
     "name": "stdout",
     "output_type": "stream",
     "text": [
      "55\n"
     ]
    }
   ],
   "source": [
    "print(func_7(1,10))"
   ]
  },
  {
   "cell_type": "code",
   "execution_count": 11,
   "metadata": {},
   "outputs": [
    {
     "name": "stdout",
     "output_type": "stream",
     "text": [
      "55\n"
     ]
    }
   ],
   "source": [
    "print(func_7(10,1))"
   ]
  },
  {
   "cell_type": "code",
   "execution_count": 12,
   "metadata": {},
   "outputs": [],
   "source": [
    "def func_8(x,y):\n",
    "    result=0\n",
    "    # 시작값이 x와 y중 작은값\n",
    "    # 종료값은 x와 y중 큰 값에 +1\n",
    "    # 숫자 데이터들 중 가장 작은 데이터를 출력하는 함수 : min()\n",
    "    # 숫자 데이터들 중 가장 큰 데이터를 출력하는 함수 : max()\n",
    "    for i in range(min(x,y),max(x,y)+1,1):\n",
    "        result+=i\n",
    "    return result"
   ]
  },
  {
   "cell_type": "code",
   "execution_count": 13,
   "metadata": {},
   "outputs": [
    {
     "name": "stdout",
     "output_type": "stream",
     "text": [
      "55\n",
      "55\n",
      "5\n"
     ]
    }
   ],
   "source": [
    "print(func_8(1,10))\n",
    "print(func_8(10,1))\n",
    "print(func_8(5,5))"
   ]
  },
  {
   "cell_type": "code",
   "execution_count": 14,
   "metadata": {},
   "outputs": [
    {
     "data": {
      "text/plain": [
       "1"
      ]
     },
     "execution_count": 14,
     "metadata": {},
     "output_type": "execute_result"
    }
   ],
   "source": [
    "min(3,1,10)"
   ]
  },
  {
   "cell_type": "code",
   "execution_count": 40,
   "metadata": {},
   "outputs": [],
   "source": [
    "# 인자의 개수가 가변인 경우의 함수를 생성\n",
    "def func_9(*args):\n",
    "    print(type(args))\n",
    "    print(args)\n",
    "    # print(len(args))\n",
    "    # 인자값들 중 첫번째 데이터를 변수에 대입\n",
    "    result=args[0]\n",
    "    # 인자 값들 중 두번째 데이터부터 반복을 하는 반복문 생성\n",
    "    for i in range(1,len(args)):\n",
    "        # result와 args[i]항목을 비교\n",
    "        if result > args[i]:\n",
    "            result = args[i]\n",
    "    return result"
   ]
  },
  {
   "cell_type": "code",
   "execution_count": 41,
   "metadata": {},
   "outputs": [
    {
     "name": "stdout",
     "output_type": "stream",
     "text": [
      "<class 'tuple'>\n",
      "(1, 2, 3, 4, 5)\n",
      "<class 'tuple'>\n",
      "(2, 4, 6, 8)\n",
      "<class 'tuple'>\n",
      "(1, 2, 3, 4, 5, 6, 7, 8, 9, 10)\n"
     ]
    },
    {
     "data": {
      "text/plain": [
       "1"
      ]
     },
     "execution_count": 41,
     "metadata": {},
     "output_type": "execute_result"
    }
   ],
   "source": [
    "func_9(1,2,3,4,5)\n",
    "func_9(2,4,6,8)\n",
    "func_9(1,2,3,4,5,6,7,8,9,10)"
   ]
  },
  {
   "cell_type": "code",
   "execution_count": 42,
   "metadata": {},
   "outputs": [
    {
     "name": "stdout",
     "output_type": "stream",
     "text": [
      "<class 'tuple'>\n",
      "(50, 49, 55, 42)\n",
      "42\n"
     ]
    }
   ],
   "source": [
    "print(func_9(50,49,55,42))"
   ]
  },
  {
   "cell_type": "markdown",
   "metadata": {},
   "source": [
    "### 예제문제\n",
    "1. 함수를 생성 -> 인자의 개수는 가변\n",
    "2. 인자값의 평균 값을 출력하는 함수\n",
    "    1. 모든 인자값들을 더한다.\n",
    "    2. 더한 데이터를 인자의 개수로 나눠준다.\n",
    "    3. 나온 결과값을 되돌려준다."
   ]
  },
  {
   "cell_type": "code",
   "execution_count": 43,
   "metadata": {},
   "outputs": [],
   "source": [
    "def func_avg(*args):  # ver1 (내꺼)\n",
    "    sum_num=0\n",
    "    for i in args:\n",
    "        sum_num+=i\n",
    "    return sum_num / len(args)\n"
   ]
  },
  {
   "cell_type": "code",
   "execution_count": 44,
   "metadata": {},
   "outputs": [
    {
     "name": "stdout",
     "output_type": "stream",
     "text": [
      "3.0\n",
      "44.75\n",
      "25.0\n"
     ]
    }
   ],
   "source": [
    "print(func_avg(1,2,3,4,5))\n",
    "print(func_avg(12,34,56,77))\n",
    "print(func_avg(10,20,30,40))"
   ]
  },
  {
   "cell_type": "code",
   "execution_count": 45,
   "metadata": {},
   "outputs": [],
   "source": [
    "def func_10(*a):  # ver 2\n",
    "    result=0\n",
    "    for i in range(len(a)):\n",
    "        result+=a[i]\n",
    "        \n",
    "    return result/len(a)"
   ]
  },
  {
   "cell_type": "code",
   "execution_count": 46,
   "metadata": {},
   "outputs": [
    {
     "name": "stdout",
     "output_type": "stream",
     "text": [
      "3.0\n",
      "44.75\n",
      "25.0\n"
     ]
    }
   ],
   "source": [
    "print(func_10(1,2,3,4,5))\n",
    "print(func_10(12,34,56,77))\n",
    "print(func_10(10,20,30,40))"
   ]
  },
  {
   "cell_type": "code",
   "execution_count": 47,
   "metadata": {},
   "outputs": [],
   "source": [
    "def func_10(*a):  # ver3\n",
    "    result=sum(a)\n",
    "    return result/len(a)\n"
   ]
  },
  {
   "cell_type": "code",
   "execution_count": 48,
   "metadata": {},
   "outputs": [
    {
     "name": "stdout",
     "output_type": "stream",
     "text": [
      "3.0\n",
      "44.75\n",
      "25.0\n"
     ]
    }
   ],
   "source": [
    "print(func_10(1,2,3,4,5))\n",
    "print(func_10(12,34,56,77))\n",
    "print(func_10(10,20,30,40))"
   ]
  },
  {
   "cell_type": "code",
   "execution_count": 49,
   "metadata": {},
   "outputs": [
    {
     "data": {
      "text/plain": [
       "False"
      ]
     },
     "execution_count": 49,
     "metadata": {},
     "output_type": "execute_result"
    }
   ],
   "source": [
    "# in 연산자 : 비교 연산자 (포함 유무)\n",
    "\n",
    "10 in [11,50,70]"
   ]
  },
  {
   "cell_type": "code",
   "execution_count": 50,
   "metadata": {},
   "outputs": [
    {
     "data": {
      "text/plain": [
       "True"
      ]
     },
     "execution_count": 50,
     "metadata": {},
     "output_type": "execute_result"
    }
   ],
   "source": [
    "_list=[11,50,70]\n",
    "(11 == _list[0]) or (11 == _list[1]) or (11 == _list[2])"
   ]
  },
  {
   "cell_type": "code",
   "execution_count": 51,
   "metadata": {},
   "outputs": [],
   "source": [
    "# 인자의 개수가 가변이 아닌 형태의 함수를 생성\n",
    "# 매개변수에 자료형 데이터를 인자값으로 입력하는 경우\n",
    "\n",
    "# 자료형 데이터를 입력받아 각 원소들의 제곱된 값을 새로운 리스트로 생성하여 되돌려준다.\n",
    "def func_11(x):\n",
    "    # x는 자료형 데이터가 들어온다.\n",
    "\n",
    "    # 결과값은 새로운 리스트를 생성하여 값들을 추가\n",
    "    result=[]\n",
    "    \n",
    "    # x의 원소들을 하나씩 추출하여 제곱한 뒤 result에 추가\n",
    "    i=0\n",
    "    while i < len(x):\n",
    "        data = x[i]**2 \n",
    "        result.append(data)\n",
    "        i+=1\n",
    "    return result\n"
   ]
  },
  {
   "cell_type": "code",
   "execution_count": 52,
   "metadata": {},
   "outputs": [
    {
     "name": "stdout",
     "output_type": "stream",
     "text": [
      "[1, 4, 9, 16]\n"
     ]
    }
   ],
   "source": [
    "print(func_11([1,2,3,4]))"
   ]
  },
  {
   "cell_type": "code",
   "execution_count": 53,
   "metadata": {},
   "outputs": [],
   "source": [
    "# map함수\n",
    "# map({호출할 함수명},{자료형 데이터})\n",
    "\n",
    "# 일반 함수를 생성\n",
    "def change(x):\n",
    "    print(type(x))\n",
    "    result = x ** 2\n",
    "    return result"
   ]
  },
  {
   "cell_type": "code",
   "execution_count": 54,
   "metadata": {},
   "outputs": [
    {
     "name": "stdout",
     "output_type": "stream",
     "text": [
      "<class 'int'>\n",
      "<class 'int'>\n",
      "<class 'int'>\n",
      "<class 'int'>\n"
     ]
    },
    {
     "data": {
      "text/plain": [
       "[1, 4, 9, 16]"
      ]
     },
     "execution_count": 54,
     "metadata": {},
     "output_type": "execute_result"
    }
   ],
   "source": [
    "list(map(\n",
    "    change,[1,2,3,4]\n",
    "))"
   ]
  },
  {
   "cell_type": "code",
   "execution_count": 55,
   "metadata": {},
   "outputs": [
    {
     "data": {
      "text/plain": [
       "[1, 4, 9, 16]"
      ]
     },
     "execution_count": 55,
     "metadata": {},
     "output_type": "execute_result"
    }
   ],
   "source": [
    "# lambda 함수 : 함수를 생성함과 동시에 호출, 단독으로보다는 map과 함깨 쓰면 코드를 단축할수 있다\n",
    "# lambda 매개변수명 : 실행될 코드\n",
    "list(\n",
    "    map(\n",
    "        lambda x :x**2,\n",
    "        [1,2,3,4]\n",
    "    )\n",
    ")"
   ]
  },
  {
   "cell_type": "code",
   "execution_count": 56,
   "metadata": {},
   "outputs": [],
   "source": [
    "def change2(a):\n",
    "    result = a **2\n",
    "    return result"
   ]
  },
  {
   "cell_type": "code",
   "execution_count": 57,
   "metadata": {},
   "outputs": [
    {
     "name": "stdout",
     "output_type": "stream",
     "text": [
      "[1, 4, 9, 16]\n"
     ]
    }
   ],
   "source": [
    "_list = [1,2,3,4]\n",
    "result=[]\n",
    "\n",
    "for i in _list:\n",
    "    #print(i)\n",
    "    result.append(change2(i))\n",
    "print(result)\n"
   ]
  },
  {
   "cell_type": "markdown",
   "metadata": {},
   "source": [
    "### 변수의 종류\n",
    "1. 전역 변수\n",
    "    - 어디서든 사용이 가능한 변수\n",
    "    - 함수의 내 외부 어디서든 사용이 가능\n",
    "    \n",
    "2. 지역 변수 (휘발성) - 메모리 공간의 절약을 위해\n",
    "    - 해당하는 지역에서만 사용이 가능한 변수\n",
    "    - 함수 내부, 클래스 내부에서 생성한 변수들을 지역변수\n",
    "    - 해당하는 지역에서 벗어나면 사용이 불가능한 휘발성 변수\n",
    "\n",
    "3. 매개 변수\n",
    "    - 함수를 생성할 때 함수 내부에서 사용하는 변수의 이름\n",
    "    - 해당하는 함수에서만 사용이 가능\n",
    "    - 함수 외부에서는 사용이 불가능\n",
    "    - 지역변수의 일종이다"
   ]
  },
  {
   "cell_type": "code",
   "execution_count": 58,
   "metadata": {},
   "outputs": [],
   "source": [
    "# 전역변수를 생성\n",
    "\n",
    "test_a = 'Hello'"
   ]
  },
  {
   "cell_type": "code",
   "execution_count": 59,
   "metadata": {},
   "outputs": [
    {
     "name": "stdout",
     "output_type": "stream",
     "text": [
      "Hello\n"
     ]
    }
   ],
   "source": [
    "print(test_a)"
   ]
  },
  {
   "cell_type": "code",
   "execution_count": 60,
   "metadata": {},
   "outputs": [],
   "source": [
    "# 지역변수 생성\n",
    "def func_12():\n",
    "    func_12_result = 'World'\n",
    "    print(func_12_result)\n",
    "    print(test_a)\n",
    "    return test_a + func_12_result"
   ]
  },
  {
   "cell_type": "code",
   "execution_count": 61,
   "metadata": {},
   "outputs": [
    {
     "name": "stdout",
     "output_type": "stream",
     "text": [
      "World\n",
      "Hello\n"
     ]
    }
   ],
   "source": [
    "# 새로운 전역변수를 생성\n",
    "test_b=func_12()"
   ]
  },
  {
   "cell_type": "code",
   "execution_count": 62,
   "metadata": {},
   "outputs": [
    {
     "name": "stdout",
     "output_type": "stream",
     "text": [
      "Hello\n",
      "HelloWorld\n"
     ]
    },
    {
     "ename": "NameError",
     "evalue": "name 'func_12_result' is not defined",
     "output_type": "error",
     "traceback": [
      "\u001b[1;31m---------------------------------------------------------------------------\u001b[0m",
      "\u001b[1;31mNameError\u001b[0m                                 Traceback (most recent call last)",
      "Cell \u001b[1;32mIn[62], line 3\u001b[0m\n\u001b[0;32m      1\u001b[0m \u001b[38;5;28mprint\u001b[39m(test_a)\n\u001b[0;32m      2\u001b[0m \u001b[38;5;28mprint\u001b[39m(test_b)\n\u001b[1;32m----> 3\u001b[0m \u001b[38;5;28mprint\u001b[39m(\u001b[43mfunc_12_result\u001b[49m)\n",
      "\u001b[1;31mNameError\u001b[0m: name 'func_12_result' is not defined"
     ]
    }
   ],
   "source": [
    "print(test_a)\n",
    "print(test_b)\n",
    "print(func_12_result)"
   ]
  },
  {
   "cell_type": "code",
   "execution_count": null,
   "metadata": {},
   "outputs": [],
   "source": [
    "def func_13(input_a,input_b):\n",
    "    result = input_a + input_b\n",
    "    return result"
   ]
  },
  {
   "cell_type": "code",
   "execution_count": null,
   "metadata": {},
   "outputs": [
    {
     "name": "stdout",
     "output_type": "stream",
     "text": [
      "15\n"
     ]
    }
   ],
   "source": [
    "test_c = func_13(10,5)\n",
    "print(test_c)"
   ]
  },
  {
   "cell_type": "code",
   "execution_count": null,
   "metadata": {},
   "outputs": [
    {
     "ename": "NameError",
     "evalue": "name 'input_a' is not defined",
     "output_type": "error",
     "traceback": [
      "\u001b[1;31m---------------------------------------------------------------------------\u001b[0m",
      "\u001b[1;31mNameError\u001b[0m                                 Traceback (most recent call last)",
      "Cell \u001b[1;32mIn[71], line 1\u001b[0m\n\u001b[1;32m----> 1\u001b[0m \u001b[38;5;28mprint\u001b[39m(\u001b[43minput_a\u001b[49m)\n\u001b[0;32m      2\u001b[0m \u001b[38;5;28mprint\u001b[39m(input_b)\n",
      "\u001b[1;31mNameError\u001b[0m: name 'input_a' is not defined"
     ]
    }
   ],
   "source": [
    "print(input_a)\n",
    "print(input_b)"
   ]
  },
  {
   "cell_type": "code",
   "execution_count": null,
   "metadata": {},
   "outputs": [],
   "source": []
  }
 ],
 "metadata": {
  "kernelspec": {
   "display_name": "Python 3",
   "language": "python",
   "name": "python3"
  },
  "language_info": {
   "codemirror_mode": {
    "name": "ipython",
    "version": 3
   },
   "file_extension": ".py",
   "mimetype": "text/x-python",
   "name": "python",
   "nbconvert_exporter": "python",
   "pygments_lexer": "ipython3",
   "version": "3.10.11"
  }
 },
 "nbformat": 4,
 "nbformat_minor": 2
}
